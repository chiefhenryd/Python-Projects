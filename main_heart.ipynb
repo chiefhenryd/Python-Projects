{
 "cells": [
  {
   "cell_type": "markdown",
   "id": "9be9ba56",
   "metadata": {},
   "source": [
    "# Data Ingestion"
   ]
  },
  {
   "cell_type": "code",
   "execution_count": 1,
   "id": "cf943bbf",
   "metadata": {},
   "outputs": [
    {
     "name": "stdout",
     "output_type": "stream",
     "text": [
      "+---------+------------+----+-------+---------------+------+--------------+------------+------+-----------+--------+---------+---+-----------+-----------+----------+-----------+---------+------+\n",
      "|PatientID|HeartDisease| BMI|Smoking|AlcoholDrinking|Stroke|PhysicalHealth|MentalHealth|Gender|AgeCategory|Diabetic|GenHealth|age|cholesterol|resting ecg|SystolicBP|DiastolicBP|HeartRate|target|\n",
      "+---------+------------+----+-------+---------------+------+--------------+------------+------+-----------+--------+---------+---+-----------+-----------+----------+-----------+---------+------+\n",
      "|     3942|          No|32.9|    Yes|            Yes|    No|            23|          15|Female|      65-69|     Yes|     Good| 66|      195.6|     Normal|       120|         84|       71|     0|\n",
      "|     4635|         Yes|20.7|    Yes|            Yes|    No|            10|          14|Female|80 or older|     Yes|     Good| 82|      215.5|        LVH|       152|         97|       90|     1|\n",
      "|     3978|          No|37.4|    Yes|             No|    No|            13|          22|Female|      25-29|      No|Excellent| 28|      181.2|         ST|       138|         78|       61|     0|\n",
      "|     7066|          No|30.0|     No|            Yes|    No|            27|          29|  Male|      30-34|     Yes|     Fair| 32|      183.0|     Normal|       122|         70|       61|     0|\n",
      "|     9277|          No|34.4|     No|            Yes|   Yes|            19|           3|  Male|      30-34|      No|Very Good| 31|      186.8|         ST|       136|         88|       85|     0|\n",
      "|     4256|          No|37.8|    Yes|             No|    No|            13|           7|  Male|80 or older|      No|Very Good| 81|      157.8|     Normal|       112|         87|       79|     0|\n",
      "|     2528|         Yes|30.9|    Yes|             No|   Yes|             0|          17|Female|      65-69|      No|     Fair| 68|      280.6|        LVH|       154|        101|       81|     1|\n",
      "|     5927|         Yes|25.8|     No|             No|   Yes|            23|          12|  Male|      65-69|      No|     Poor| 68|      262.1|        LVH|       178|         90|       92|     1|\n",
      "|     9934|         Yes|36.4|     No|             No|    No|            23|          13|Female|      35-39|     Yes|     Fair| 36|      264.5|     Normal|       153|        100|       81|     1|\n",
      "|     9207|         Yes|24.5|    Yes|             No|   Yes|             7|          24|Female|      40-44|     Yes|Very Good| 44|      244.3|     Normal|       162|        101|       82|     1|\n",
      "|     7309|         Yes|38.0|     No|            Yes|    No|             3|          18|  Male|      65-69|      No|     Poor| 69|      231.6|         ST|       168|        116|       84|     1|\n",
      "|     9655|          No|25.8|    Yes|            Yes|    No|            10|          24|Female|      75-79|      No|     Good| 78|      186.0|         ST|       120|         71|       75|     0|\n",
      "|     3015|         Yes|23.4|    Yes|             No|    No|            27|          10|  Male|      55-59|     Yes|Excellent| 57|      217.7|        LVH|       173|         94|       89|     1|\n",
      "|     1661|          No|37.6|     No|             No|    No|             8|          15|  Male|      55-59|     Yes|     Good| 55|      166.6|     Normal|       114|         88|       83|     0|\n",
      "|     2379|         Yes|32.6|     No|             No|   Yes|            22|           9|  Male|      50-54|     Yes|Excellent| 51|      254.3|     Normal|       168|        112|       82|     1|\n",
      "|     6845|         Yes|28.4|     No|            Yes|   Yes|            15|           8|  Male|      70-74|      No|     Good| 70|      294.2|     Normal|       164|        119|       99|     1|\n",
      "|     4121|         Yes|23.7|    Yes|             No|    No|            15|          28|  Male|      55-59|     Yes|     Good| 55|      259.3|        LVH|       168|         98|       74|     1|\n",
      "|     8363|         Yes|37.6|    Yes|             No|    No|            29|           6|Female|80 or older|     Yes|     Good| 80|      251.3|        LVH|       141|        113|       89|     1|\n",
      "|     2339|          No|31.7|    Yes|            Yes|   Yes|            24|           7|Female|      70-74|     Yes|     Good| 74|      171.1|         ST|       136|         73|       63|     0|\n",
      "|     9492|          No|22.0|     No|            Yes|   Yes|            15|          11|Female|      75-79|     Yes|     Good| 79|      163.0|     Normal|       118|         82|       85|     0|\n",
      "+---------+------------+----+-------+---------------+------+--------------+------------+------+-----------+--------+---------+---+-----------+-----------+----------+-----------+---------+------+\n",
      "only showing top 20 rows\n",
      "\n"
     ]
    }
   ],
   "source": [
    "from pyspark.sql import SparkSession\n",
    "\n",
    "# Initialize a Spark session\n",
    "spark = SparkSession.builder \\\n",
    "  .appName(\"Heart Disease Data Preprocessing\") \\\n",
    "  .getOrCreate()\n",
    "\n",
    "# Load the CSV file from local into a DataFrame\n",
    "df = spark.read.csv(r\"D:\\heart_data\\raw\\heart_disease.csv\", header=True, inferSchema=True)\n",
    "\n",
    "# Check if Spark session is active\n",
    "if spark is None:\n",
    "  raise Exception(\"Spark session is not active.\")\n",
    "\n",
    "# Display the first 20 rows with truncated strings (default behavior)\n",
    "df.show()"
   ]
  },
  {
   "cell_type": "markdown",
   "id": "83c769ed",
   "metadata": {},
   "source": [
    "# Data Preprocessing\n",
    "\n",
    "### 1. Handling missing values\n"
   ]
  },
  {
   "cell_type": "code",
   "execution_count": 2,
   "id": "55fe0f95",
   "metadata": {},
   "outputs": [
    {
     "name": "stdout",
     "output_type": "stream",
     "text": [
      "Missing values in the DataFrame:\n",
      "No missing values to drop.\n"
     ]
    }
   ],
   "source": [
    "from pyspark.sql import SparkSession\n",
    "from pyspark.sql.functions import col, when, count\n",
    "\n",
    "# Check for missing values in the DataFrame\n",
    "missing_counts = df.select([count(when(col(c).isNull(), c)).alias(c) for c in df.columns]).collect()[0]\n",
    "\n",
    "# Print information about missing values\n",
    "print(\"Missing values in the DataFrame:\")\n",
    "for col_name, count in zip(df.columns, missing_counts):\n",
    "    if count > 0:\n",
    "        print(f\"Column '{col_name}' has {count} missing values.\")\n",
    "\n",
    "# Check if any missing values exist before dropping\n",
    "if any(missing_counts):\n",
    "    # Optionally drop rows with missing values\n",
    "    df = df.dropna()  # Drop rows with missing values in all columns\n",
    "    print(\"Missing values have been dropped.\")\n",
    "else:\n",
    "    print(\"No missing values to drop.\")"
   ]
  },
  {
   "cell_type": "markdown",
   "id": "d29a0b5e",
   "metadata": {},
   "source": [
    "### 2. Check for duplicate values"
   ]
  },
  {
   "cell_type": "code",
   "execution_count": 4,
   "id": "c47f5fc5",
   "metadata": {},
   "outputs": [
    {
     "name": "stdout",
     "output_type": "stream",
     "text": [
      "No duplicate rows are present in the DataFrame.\n"
     ]
    }
   ],
   "source": [
    "from pyspark.sql import SparkSession\n",
    "from pyspark.sql import SparkSession, Column\n",
    "\n",
    "# ... your existing code to initialize Spark session and load data ...\n",
    "\n",
    "# Check for duplicate values\n",
    "duplicate_count = df.count() - df.distinct().count()\n",
    "\n",
    "# Print statement based on the result\n",
    "if duplicate_count > 0:\n",
    "  print(f\"There are {duplicate_count} duplicate rows in the DataFrame.\")\n",
    "else:\n",
    "  print(\"No duplicate rows are present in the DataFrame.\")"
   ]
  },
  {
   "cell_type": "code",
   "execution_count": 5,
   "id": "bc3ad53c",
   "metadata": {},
   "outputs": [
    {
     "name": "stdout",
     "output_type": "stream",
     "text": [
      "Total number of rows in the DataFrame: 75000\n"
     ]
    }
   ],
   "source": [
    "# Get the total number of rows in the DataFrame\n",
    "total_rows = df.count()\n",
    "\n",
    "# Print the total number of rows\n",
    "print(f\"Total number of rows in the DataFrame: {total_rows}\")\n"
   ]
  },
  {
   "cell_type": "markdown",
   "id": "c661d50f",
   "metadata": {},
   "source": [
    "### Summary Statistics"
   ]
  },
  {
   "cell_type": "code",
   "execution_count": 7,
   "id": "146a19c0",
   "metadata": {},
   "outputs": [
    {
     "name": "stdout",
     "output_type": "stream",
     "text": [
      "+-------+-----------------+------------+------------------+-------+---------------+------+------------------+------------------+------+-----------+--------+---------+------------------+------------------+-----------+-----------------+------------------+------------------+-----------------+\n",
      "|summary|        PatientID|HeartDisease|               BMI|Smoking|AlcoholDrinking|Stroke|    PhysicalHealth|      MentalHealth|Gender|AgeCategory|Diabetic|GenHealth|               age|       cholesterol|resting ecg|       SystolicBP|       DiastolicBP|         HeartRate|           target|\n",
      "+-------+-----------------+------------+------------------+-------+---------------+------+------------------+------------------+------+-----------+--------+---------+------------------+------------------+-----------+-----------------+------------------+------------------+-----------------+\n",
      "|  count|            75000|       75000|             75000|  75000|          75000| 75000|             75000|             75000| 75000|      75000|   75000|    75000|             75000|             75000|      75000|            75000|             75000|             75000|            75000|\n",
      "|   mean|5502.394026666667|        NULL|29.020209333333412|   NULL|           NULL|  NULL|15.008626666666666|15.018586666666666|  NULL|       NULL|    NULL|     NULL|51.546706666666665|208.39433333333358|       NULL|        140.47132| 91.00454666666667|          78.07676|          0.45044|\n",
      "| stddev|2597.907360438077|        NULL|6.3493853911574805|   NULL|           NULL|  NULL| 8.950868513981428|  8.95807593724689|  NULL|       NULL|    NULL|     NULL|19.652719783256867|43.432259696044596|       NULL|20.40095112427416|14.672213522363162|10.290616430817963|0.497541060645343|\n",
      "|    min|             1000|          No|              18.0|     No|             No|    No|                 0|                 0|Female|      18-24|      No|Excellent|                18|             150.0|        LVH|              110|                70|                60|                0|\n",
      "|    max|             9999|         Yes|              40.0|    Yes|            Yes|   Yes|                30|                30|  Male|80 or older|     Yes|Very Good|                85|             300.0|         ST|              180|               120|               100|                1|\n",
      "+-------+-----------------+------------+------------------+-------+---------------+------+------------------+------------------+------+-----------+--------+---------+------------------+------------------+-----------+-----------------+------------------+------------------+-----------------+\n",
      "\n"
     ]
    }
   ],
   "source": [
    "from pyspark.sql import SparkSession\n",
    "# Describe the DataFrame (if available)\n",
    "try:\n",
    "  df.describe().show()\n",
    "except AttributeError:\n",
    "  print(\"`describe` function not available in this PySpark version. Consider upgrading or using summary statistics for individual columns.\")"
   ]
  },
  {
   "cell_type": "markdown",
   "id": "162c46ca",
   "metadata": {},
   "source": [
    "## 3. Normalization"
   ]
  },
  {
   "cell_type": "code",
   "execution_count": 8,
   "id": "fe76ab73",
   "metadata": {},
   "outputs": [
    {
     "name": "stdout",
     "output_type": "stream",
     "text": [
      "+---------+------------+----+-------+---------------+------+--------------+------------+------+-----------+--------+---------+---+-----------+-----------+----------+-----------+---------+------+-------------------+-------------------------+-----------------------+-------------------+----------------------+---------------------+----------------------+--------------------+\n",
      "|PatientID|HeartDisease| BMI|Smoking|AlcoholDrinking|Stroke|PhysicalHealth|MentalHealth|Gender|AgeCategory|Diabetic|GenHealth|age|cholesterol|resting ecg|SystolicBP|DiastolicBP|HeartRate|target|     normalized_BMI|normalized_PhysicalHealth|normalized_MentalHealth|     normalized_Age|normalized_Cholesterol|normalized_SystolicBP|normalized_DiastolicBP|normalized_HeartRate|\n",
      "+---------+------------+----+-------+---------------+------+--------------+------------+------+-----------+--------+---------+---+-----------+-----------+----------+-----------+---------+------+-------------------+-------------------------+-----------------------+-------------------+----------------------+---------------------+----------------------+--------------------+\n",
      "|     3942|          No|32.9|    Yes|            Yes|    No|            23|          15|Female|      65-69|     Yes|     Good| 66|      195.6|     Normal|       120|         84|       71|     0| 0.6772727272727272|       0.7666666666666667|                    0.5| 0.7164179104477612|   0.30399999999999994|  0.14285714285714285|                  0.28|               0.275|\n",
      "|     4635|         Yes|20.7|    Yes|            Yes|    No|            10|          14|Female|80 or older|     Yes|     Good| 82|      215.5|        LVH|       152|         97|       90|     1| 0.1227272727272727|       0.3333333333333333|     0.4666666666666667| 0.9552238805970149|   0.43666666666666665|                  0.6|                  0.54|                0.75|\n",
      "|     3978|          No|37.4|    Yes|             No|    No|            13|          22|Female|      25-29|      No|Excellent| 28|      181.2|         ST|       138|         78|       61|     0| 0.8818181818181817|      0.43333333333333335|     0.7333333333333333|0.14925373134328357|   0.20799999999999993|                  0.4|                  0.16|               0.025|\n",
      "|     7066|          No|30.0|     No|            Yes|    No|            27|          29|  Male|      30-34|     Yes|     Fair| 32|      183.0|     Normal|       122|         70|       61|     0| 0.5454545454545454|                      0.9|     0.9666666666666667|  0.208955223880597|                  0.22|  0.17142857142857143|                   0.0|               0.025|\n",
      "|     9277|          No|34.4|     No|            Yes|   Yes|            19|           3|  Male|      30-34|      No|Very Good| 31|      186.8|         ST|       136|         88|       85|     0| 0.7454545454545454|       0.6333333333333333|                    0.1|0.19402985074626866|    0.2453333333333334|  0.37142857142857144|                  0.36|               0.625|\n",
      "|     4256|          No|37.8|    Yes|             No|    No|            13|           7|  Male|80 or older|      No|Very Good| 81|      157.8|     Normal|       112|         87|       79|     0| 0.8999999999999999|      0.43333333333333335|    0.23333333333333334| 0.9402985074626866|  0.052000000000000074|  0.02857142857142857|                  0.34|               0.475|\n",
      "|     2528|         Yes|30.9|    Yes|             No|   Yes|             0|          17|Female|      65-69|      No|     Fair| 68|      280.6|        LVH|       154|        101|       81|     1| 0.5863636363636363|                      0.0|     0.5666666666666667|  0.746268656716418|    0.8706666666666668|   0.6285714285714286|                  0.62|               0.525|\n",
      "|     5927|         Yes|25.8|     No|             No|   Yes|            23|          12|  Male|      65-69|      No|     Poor| 68|      262.1|        LVH|       178|         90|       92|     1|0.35454545454545455|       0.7666666666666667|                    0.4|  0.746268656716418|    0.7473333333333335|   0.9714285714285714|                   0.4|                 0.8|\n",
      "|     9934|         Yes|36.4|     No|             No|    No|            23|          13|Female|      35-39|     Yes|     Fair| 36|      264.5|     Normal|       153|        100|       81|     1| 0.8363636363636363|       0.7666666666666667|    0.43333333333333335|0.26865671641791045|    0.7633333333333333|   0.6142857142857143|                   0.6|               0.525|\n",
      "|     9207|         Yes|24.5|    Yes|             No|   Yes|             7|          24|Female|      40-44|     Yes|Very Good| 44|      244.3|     Normal|       162|        101|       82|     1|0.29545454545454547|      0.23333333333333334|                    0.8| 0.3880597014925373|    0.6286666666666667|   0.7428571428571429|                  0.62|                0.55|\n",
      "|     7309|         Yes|38.0|     No|            Yes|    No|             3|          18|  Male|      65-69|      No|     Poor| 69|      231.6|         ST|       168|        116|       84|     1| 0.9090909090909091|                      0.1|                    0.6| 0.7611940298507462|    0.5439999999999999|   0.8285714285714286|                  0.92|                 0.6|\n",
      "|     9655|          No|25.8|    Yes|            Yes|    No|            10|          24|Female|      75-79|      No|     Good| 78|      186.0|         ST|       120|         71|       75|     0|0.35454545454545455|       0.3333333333333333|                    0.8| 0.8955223880597015|                  0.24|  0.14285714285714285|                  0.02|               0.375|\n",
      "|     3015|         Yes|23.4|    Yes|             No|    No|            27|          10|  Male|      55-59|     Yes|Excellent| 57|      217.7|        LVH|       173|         94|       89|     1| 0.2454545454545454|                      0.9|     0.3333333333333333|  0.582089552238806|   0.45133333333333325|                  0.9|                  0.48|               0.725|\n",
      "|     1661|          No|37.6|     No|             No|    No|             8|          15|  Male|      55-59|     Yes|     Good| 55|      166.6|     Normal|       114|         88|       83|     0|  0.890909090909091|      0.26666666666666666|                    0.5| 0.5522388059701493|   0.11066666666666664|  0.05714285714285714|                  0.36|               0.575|\n",
      "|     2379|         Yes|32.6|     No|             No|   Yes|            22|           9|  Male|      50-54|     Yes|Excellent| 51|      254.3|     Normal|       168|        112|       82|     1| 0.6636363636363637|       0.7333333333333333|                    0.3| 0.4925373134328358|    0.6953333333333334|   0.8285714285714286|                  0.84|                0.55|\n",
      "|     6845|         Yes|28.4|     No|            Yes|   Yes|            15|           8|  Male|      70-74|      No|     Good| 70|      294.2|     Normal|       164|        119|       99|     1|0.47272727272727266|                      0.5|    0.26666666666666666| 0.7761194029850746|    0.9613333333333333|   0.7714285714285715|                  0.98|               0.975|\n",
      "|     4121|         Yes|23.7|    Yes|             No|    No|            15|          28|  Male|      55-59|     Yes|     Good| 55|      259.3|        LVH|       168|         98|       74|     1|0.25909090909090904|                      0.5|     0.9333333333333333| 0.5522388059701493|    0.7286666666666668|   0.8285714285714286|                  0.56|                0.35|\n",
      "|     8363|         Yes|37.6|    Yes|             No|    No|            29|           6|Female|80 or older|     Yes|     Good| 80|      251.3|        LVH|       141|        113|       89|     1|  0.890909090909091|       0.9666666666666667|                    0.2| 0.9253731343283582|    0.6753333333333335|  0.44285714285714284|                  0.86|               0.725|\n",
      "|     2339|          No|31.7|    Yes|            Yes|   Yes|            24|           7|Female|      70-74|     Yes|     Good| 74|      171.1|         ST|       136|         73|       63|     0| 0.6227272727272727|                      0.8|    0.23333333333333334|  0.835820895522388|   0.14066666666666663|  0.37142857142857144|                  0.06|               0.075|\n",
      "|     9492|          No|22.0|     No|            Yes|   Yes|            15|          11|Female|      75-79|     Yes|     Good| 79|      163.0|     Normal|       118|         82|       85|     0|0.18181818181818182|                      0.5|    0.36666666666666664| 0.9104477611940298|   0.08666666666666667|  0.11428571428571428|                  0.24|               0.625|\n",
      "+---------+------------+----+-------+---------------+------+--------------+------------+------+-----------+--------+---------+---+-----------+-----------+----------+-----------+---------+------+-------------------+-------------------------+-----------------------+-------------------+----------------------+---------------------+----------------------+--------------------+\n",
      "only showing top 20 rows\n",
      "\n"
     ]
    }
   ],
   "source": [
    "from pyspark.sql import SparkSession, functions as F\n",
    "\n",
    "# List of columns to normalize\n",
    "columns_to_normalize = ['BMI', 'PhysicalHealth', 'MentalHealth', 'Age', 'Cholesterol', 'SystolicBP', 'DiastolicBP', 'HeartRate']\n",
    "\n",
    "# Apply min-max scaling to specified columns\n",
    "for c in columns_to_normalize:\n",
    "    min_value = df.select(F.min(c)).collect()[0][0]\n",
    "    max_value = df.select(F.max(c)).collect()[0][0]\n",
    "    df = df.withColumn(f\"normalized_{c}\", (F.col(c) - min_value) / (max_value - min_value))\n",
    "\n",
    "# Show the normalized DataFrame\n",
    "df.show()\n"
   ]
  },
  {
   "cell_type": "code",
   "execution_count": null,
   "id": "d95d77df",
   "metadata": {},
   "outputs": [],
   "source": []
  }
 ],
 "metadata": {
  "kernelspec": {
   "display_name": "Python 3 (ipykernel)",
   "language": "python",
   "name": "python3"
  },
  "language_info": {
   "codemirror_mode": {
    "name": "ipython",
    "version": 3
   },
   "file_extension": ".py",
   "mimetype": "text/x-python",
   "name": "python",
   "nbconvert_exporter": "python",
   "pygments_lexer": "ipython3",
   "version": "3.11.4"
  }
 },
 "nbformat": 4,
 "nbformat_minor": 5
}
